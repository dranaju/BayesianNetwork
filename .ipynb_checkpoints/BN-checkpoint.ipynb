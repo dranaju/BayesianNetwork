{
 "cells": [
  {
   "cell_type": "code",
   "execution_count": 1,
   "metadata": {},
   "outputs": [],
   "source": [
    "from pgmpy.factors.discrete import TabularCPD\n",
    "from pgmpy.models import BayesianModel"
   ]
  },
  {
   "cell_type": "code",
   "execution_count": 9,
   "metadata": {},
   "outputs": [],
   "source": [
    "modelo_olimpiada = BayesianModel([('Genetica','TesteOlimpico'),\n",
    "                                 ('Pratica','TesteOlimpico'),\n",
    "                                 ('TesteOlimpico','Oferta')])"
   ]
  },
  {
   "cell_type": "markdown",
   "metadata": {},
   "source": [
    "# Inicializar relações"
   ]
  },
  {
   "cell_type": "code",
   "execution_count": 10,
   "metadata": {},
   "outputs": [],
   "source": [
    "genetics_cpd = TabularCPD(\n",
    "                         variable='Genetica',\n",
    "                         variable_card=2,\n",
    "                         values = [[.2,.8]])"
   ]
  },
  {
   "cell_type": "code",
   "execution_count": 11,
   "metadata": {},
   "outputs": [],
   "source": [
    "practice_cpd = TabularCPD(\n",
    "                         variable = 'Pratica',\n",
    "                         variable_card=2,\n",
    "                         values=[[.7,.3]])"
   ]
  },
  {
   "cell_type": "code",
   "execution_count": 12,
   "metadata": {},
   "outputs": [],
   "source": [
    "offer_cpd = TabularCPD(\n",
    "                      variable='Oferta',\n",
    "                      variable_card=2,\n",
    "                      values=[[.95, .8, .5],\n",
    "                             [.05,.2,.5]],\n",
    "                      evidence=['TesteOlimpico'],\n",
    "                      evidence_card=[3])"
   ]
  },
  {
   "cell_type": "code",
   "execution_count": 13,
   "metadata": {},
   "outputs": [],
   "source": [
    "olympics_trials_cpd = TabularCPD(\n",
    "                                 variable='TesteOlimpico',\n",
    "                                 variable_card=3,\n",
    "                                 values = [[.5,.8,.8,.9],\n",
    "                                          [.3,.15,.1,.08],\n",
    "                                          [.2,.05,.1,.02]],\n",
    "                                 evidence=['Genetica', 'Pratica'],\n",
    "                                 evidence_card = [2,2])"
   ]
  },
  {
   "cell_type": "markdown",
   "metadata": {},
   "source": [
    "# Adicinando as relações para o modelo"
   ]
  },
  {
   "cell_type": "code",
   "execution_count": 14,
   "metadata": {},
   "outputs": [],
   "source": [
    "modelo_olimpiada.add_cpds(genetics_cpd, practice_cpd, offer_cpd, olympics_trials_cpd)"
   ]
  },
  {
   "cell_type": "markdown",
   "metadata": {},
   "source": [
    "# Examina a estrutura do grafo"
   ]
  },
  {
   "cell_type": "code",
   "execution_count": 15,
   "metadata": {},
   "outputs": [
    {
     "data": {
      "text/plain": [
       "[<TabularCPD representing P(Genetica:2) at 0x7f679e71e908>,\n",
       " <TabularCPD representing P(Pratica:2) at 0x7f679e71ea58>,\n",
       " <TabularCPD representing P(Oferta:2 | TesteOlimpico:3) at 0x7f679e71ed68>,\n",
       " <TabularCPD representing P(TesteOlimpico:3 | Genetica:2, Pratica:2) at 0x7f679e71efd0>]"
      ]
     },
     "execution_count": 15,
     "metadata": {},
     "output_type": "execute_result"
    }
   ],
   "source": [
    "modelo_olimpiada.get_cpds()"
   ]
  },
  {
   "cell_type": "markdown",
   "metadata": {},
   "source": [
    "# Passo de influência"
   ]
  },
  {
   "cell_type": "code",
   "execution_count": 16,
   "metadata": {},
   "outputs": [
    {
     "data": {
      "text/plain": [
       "{'Pratica': {'Oferta', 'Pratica', 'TesteOlimpico'}}"
      ]
     },
     "execution_count": 16,
     "metadata": {},
     "output_type": "execute_result"
    }
   ],
   "source": [
    "modelo_olimpiada.active_trail_nodes('Pratica')"
   ]
  },
  {
   "cell_type": "code",
   "execution_count": 17,
   "metadata": {},
   "outputs": [
    {
     "data": {
      "text/plain": [
       "{'TesteOlimpico': {'Genetica', 'Oferta', 'Pratica', 'TesteOlimpico'}}"
      ]
     },
     "execution_count": 17,
     "metadata": {},
     "output_type": "execute_result"
    }
   ],
   "source": [
    "modelo_olimpiada.active_trail_nodes('TesteOlimpico')"
   ]
  },
  {
   "cell_type": "markdown",
   "metadata": {},
   "source": [
    "# Independências"
   ]
  },
  {
   "cell_type": "code",
   "execution_count": 19,
   "metadata": {},
   "outputs": [
    {
     "data": {
      "text/plain": [
       "(Genetica _|_ Pratica, Oferta, TesteOlimpico)"
      ]
     },
     "execution_count": 19,
     "metadata": {},
     "output_type": "execute_result"
    }
   ],
   "source": [
    "modelo_olimpiada.local_independencies('Genetica')"
   ]
  },
  {
   "cell_type": "code",
   "execution_count": 20,
   "metadata": {},
   "outputs": [
    {
     "data": {
      "text/plain": [
       "(Genetica _|_ Pratica)\n",
       "(Genetica _|_ Oferta | TesteOlimpico)\n",
       "(Genetica _|_ Oferta | Pratica, TesteOlimpico)\n",
       "(Pratica _|_ Genetica)\n",
       "(Pratica _|_ Oferta | TesteOlimpico)\n",
       "(Pratica _|_ Oferta | Genetica, TesteOlimpico)\n",
       "(Oferta _|_ Pratica, Genetica | TesteOlimpico)\n",
       "(Oferta _|_ Genetica | Pratica, TesteOlimpico)\n",
       "(Oferta _|_ Pratica | TesteOlimpico, Genetica)"
      ]
     },
     "execution_count": 20,
     "metadata": {},
     "output_type": "execute_result"
    }
   ],
   "source": [
    "modelo_olimpiada.get_independencies()"
   ]
  },
  {
   "cell_type": "markdown",
   "metadata": {},
   "source": [
    "# Fazer inferência"
   ]
  },
  {
   "cell_type": "markdown",
   "metadata": {},
   "source": [
    "Fazer inferencia não explícita"
   ]
  },
  {
   "cell_type": "code",
   "execution_count": 21,
   "metadata": {},
   "outputs": [],
   "source": [
    "from pgmpy.inference import VariableElimination"
   ]
  },
  {
   "cell_type": "code",
   "execution_count": 22,
   "metadata": {},
   "outputs": [],
   "source": [
    "inferencia_olimpiada = VariableElimination(modelo_olimpiada)"
   ]
  },
  {
   "cell_type": "code",
   "execution_count": 23,
   "metadata": {},
   "outputs": [
    {
     "name": "stdout",
     "output_type": "stream",
     "text": [
      "╒══════════╤═══════════════╕\n",
      "│ Oferta   │   phi(Oferta) │\n",
      "╞══════════╪═══════════════╡\n",
      "│ Oferta_0 │        0.8898 │\n",
      "├──────────┼───────────────┤\n",
      "│ Oferta_1 │        0.1102 │\n",
      "╘══════════╧═══════════════╛\n"
     ]
    }
   ],
   "source": [
    "prob_offer = inferencia_olimpiada.query(variables=['Oferta'])\n",
    "print(prob_offer['Oferta'])"
   ]
  },
  {
   "cell_type": "markdown",
   "metadata": {},
   "source": [
    "Pegar inferência que a gente já sabe"
   ]
  },
  {
   "cell_type": "code",
   "execution_count": 24,
   "metadata": {},
   "outputs": [
    {
     "name": "stdout",
     "output_type": "stream",
     "text": [
      "╒══════════╤═══════════════╕\n",
      "│ Oferta   │   phi(Oferta) │\n",
      "╞══════════╪═══════════════╡\n",
      "│ Oferta_0 │        0.9017 │\n",
      "├──────────┼───────────────┤\n",
      "│ Oferta_1 │        0.0983 │\n",
      "╘══════════╧═══════════════╛\n"
     ]
    }
   ],
   "source": [
    "prob_offer_bad_genes = inferencia_olimpiada.query(\n",
    "                                                 variables=['Oferta'],\n",
    "                                                 evidence={'Genetica':1})\n",
    "print(prob_offer_bad_genes['Oferta'])"
   ]
  },
  {
   "cell_type": "code",
   "execution_count": 25,
   "metadata": {},
   "outputs": [
    {
     "name": "stdout",
     "output_type": "stream",
     "text": [
      "╒══════════╤═══════════════╕\n",
      "│ Oferta   │   phi(Oferta) │\n",
      "╞══════════╪═══════════════╡\n",
      "│ Oferta_0 │        0.8420 │\n",
      "├──────────┼───────────────┤\n",
      "│ Oferta_1 │        0.1580 │\n",
      "╘══════════╧═══════════════╛\n"
     ]
    }
   ],
   "source": [
    "prob_offer_good_genes = inferencia_olimpiada.query(\n",
    "                                                 variables=['Oferta'],\n",
    "                                                 evidence={'Genetica':0})\n",
    "print(prob_offer_good_genes['Oferta'])"
   ]
  },
  {
   "cell_type": "code",
   "execution_count": 26,
   "metadata": {},
   "outputs": [
    {
     "name": "stdout",
     "output_type": "stream",
     "text": [
      "╒══════════╤═══════════════╕\n",
      "│ Oferta   │   phi(Oferta) │\n",
      "╞══════════╪═══════════════╡\n",
      "│ Oferta_0 │        0.8150 │\n",
      "├──────────┼───────────────┤\n",
      "│ Oferta_1 │        0.1850 │\n",
      "╘══════════╧═══════════════╛\n"
     ]
    }
   ],
   "source": [
    "prob_offer_good_genes_praticou = inferencia_olimpiada.query(\n",
    "                                                     variables=['Oferta'],\n",
    "                                                     evidence={'Genetica':0,\n",
    "                                                               'Pratica':0})\n",
    "print(prob_offer_good_genes_praticou['Oferta'])"
   ]
  },
  {
   "cell_type": "code",
   "execution_count": 27,
   "metadata": {},
   "outputs": [
    {
     "name": "stdout",
     "output_type": "stream",
     "text": [
      "╒════════════╤═════════════════╕\n",
      "│ Genetica   │   phi(Genetica) │\n",
      "╞════════════╪═════════════════╡\n",
      "│ Genetica_0 │          0.3377 │\n",
      "├────────────┼─────────────────┤\n",
      "│ Genetica_1 │          0.6623 │\n",
      "╘════════════╧═════════════════╛\n"
     ]
    }
   ],
   "source": [
    "prob_good_genes_se_otimo_olympic_trials = inferencia_olimpiada.query(\n",
    "                                                                    variables=['Genetica'],\n",
    "                                                                    evidence = {'TesteOlimpico':2})\n",
    "print(prob_good_genes_se_otimo_olympic_trials['Genetica'])"
   ]
  },
  {
   "cell_type": "code",
   "execution_count": 28,
   "metadata": {},
   "outputs": [
    {
     "name": "stdout",
     "output_type": "stream",
     "text": [
      "╒════════════╤═════════════════╕\n",
      "│ Genetica   │   phi(Genetica) │\n",
      "╞════════════╪═════════════════╡\n",
      "│ Genetica_0 │          0.2000 │\n",
      "├────────────┼─────────────────┤\n",
      "│ Genetica_1 │          0.8000 │\n",
      "╘════════════╧═════════════════╛\n"
     ]
    }
   ],
   "source": [
    "prob_good_genes_naopraticou = inferencia_olimpiada.query(\n",
    "                                                        variables=['Genetica'],\n",
    "                                                        evidence={'Pratica':1})\n",
    "print(prob_good_genes_naopraticou['Genetica'])"
   ]
  },
  {
   "cell_type": "code",
   "execution_count": 29,
   "metadata": {},
   "outputs": [
    {
     "name": "stdout",
     "output_type": "stream",
     "text": [
      "╒════════════╤═════════════════╕\n",
      "│ Genetica   │   phi(Genetica) │\n",
      "╞════════════╪═════════════════╡\n",
      "│ Genetica_0 │          0.3846 │\n",
      "├────────────┼─────────────────┤\n",
      "│ Genetica_1 │          0.6154 │\n",
      "╘════════════╧═════════════════╛\n"
     ]
    }
   ],
   "source": [
    "prob_good_genes_naopraticou_se_bom_olympic_trials = inferencia_olimpiada.query(\n",
    "                                                        variables=['Genetica'],\n",
    "                                                        evidence={'Pratica':1,\n",
    "                                                                 'TesteOlimpico':2})\n",
    "print(prob_good_genes_naopraticou_se_bom_olympic_trials['Genetica'])"
   ]
  },
  {
   "cell_type": "markdown",
   "metadata": {},
   "source": [
    "## Estado mais provável"
   ]
  },
  {
   "cell_type": "code",
   "execution_count": 30,
   "metadata": {},
   "outputs": [
    {
     "data": {
      "text/plain": [
       "{'Pratica': 0}"
      ]
     },
     "execution_count": 30,
     "metadata": {},
     "output_type": "execute_result"
    }
   ],
   "source": [
    "inferencia_olimpiada.map_query(variables = ['Pratica'])"
   ]
  },
  {
   "cell_type": "code",
   "execution_count": 31,
   "metadata": {},
   "outputs": [
    {
     "data": {
      "text/plain": [
       "{'Oferta': 0}"
      ]
     },
     "execution_count": 31,
     "metadata": {},
     "output_type": "execute_result"
    }
   ],
   "source": [
    "inferencia_olimpiada.map_query(variables = ['Oferta'])"
   ]
  },
  {
   "cell_type": "code",
   "execution_count": null,
   "metadata": {},
   "outputs": [],
   "source": []
  }
 ],
 "metadata": {
  "kernelspec": {
   "display_name": "Python 3",
   "language": "python",
   "name": "python3"
  },
  "language_info": {
   "codemirror_mode": {
    "name": "ipython",
    "version": 3
   },
   "file_extension": ".py",
   "mimetype": "text/x-python",
   "name": "python",
   "nbconvert_exporter": "python",
   "pygments_lexer": "ipython3",
   "version": "3.6.5"
  }
 },
 "nbformat": 4,
 "nbformat_minor": 2
}
